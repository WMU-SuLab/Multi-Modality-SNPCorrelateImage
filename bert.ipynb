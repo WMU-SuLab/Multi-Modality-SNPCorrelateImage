{
 "cells": [
  {
   "cell_type": "code",
   "execution_count": null,
   "metadata": {
    "collapsed": true
   },
   "outputs": [],
   "source": [
    "import copy\n",
    "import os\n",
    "import time\n",
    "\n",
    "import torch\n",
    "import tqdm\n",
    "from torch import nn, optim\n",
    "from torch.utils.tensorboard import SummaryWriter\n",
    "from transformers import BertConfig, BertForSequenceClassification, BertTokenizer\n",
    "from transformers import get_linear_schedule_with_warmup\n",
    "\n",
    "from divide_dataset import mk_dataset_paths\n",
    "from utils import setup_seed\n",
    "from utils.compute.metrics import count_metrics_binary_classification\n",
    "from utils.dir import mk_dir\n",
    "from utils.early_stopping import LossEarlyStopping\n",
    "from utils.finish import finish_train\n",
    "from utils.mk_data_loaders import mk_data_loaders_single_funcs\n",
    "from utils.records import train_epoch_record\n",
    "from utils.time import datetime_now_str"
   ]
  },
  {
   "cell_type": "code",
   "execution_count": null,
   "outputs": [],
   "source": [
    "# 设置随机种子\n",
    "setup_seed(2023)\n",
    "num_labels = 2\n",
    "hidden_dropout_prob = 0.3\n",
    "learning_rate = 1e-5\n",
    "weight_decay = 1e-2\n",
    "batch_size = 8\n",
    "epochs = 100\n",
    "save_interval = 10\n",
    "log_interval = 1\n",
    "step_size = 10\n",
    "gamma = 0.1\n",
    "dataset_dir_path = r\"F:\\sunhj\\Multi-Modality-SNPCorrelateImage\\data\\divide\\20230724190047\"\n",
    "max_len = 510\n",
    "dataset_in_memory = True\n",
    "label_data_id_field_name = None\n",
    "label_data_label_field_name = None\n",
    "use_early_stopping = True\n",
    "early_stopping_step = 7\n",
    "early_stopping_delta = 0\n",
    "device = torch.device(\"cuda:0\" if torch.cuda.is_available() else \"cpu\")"
   ],
   "metadata": {
    "collapsed": false
   }
  },
  {
   "cell_type": "code",
   "execution_count": null,
   "outputs": [],
   "source": [
    "UNCASED = r'.\\work_dirs\\bert\\bert-base-uncased'\n",
    "config = BertConfig.from_pretrained(UNCASED, num_labels=num_labels, output_attentions=False, output_hidden_states=False,\n",
    "                                    hidden_dropout_prob=hidden_dropout_prob, author=\"diklios\")\n",
    "config.output_hidden_states = True\n",
    "config.output_attentions = True\n",
    "net = BertForSequenceClassification.from_pretrained(UNCASED, config=config)\n",
    "net.to(device)\n",
    "tokenizer = BertTokenizer.from_pretrained(os.path.join(UNCASED, 'vocab.txt'), config=config, do_lower_case=True)"
   ],
   "metadata": {
    "collapsed": false
   }
  },
  {
   "cell_type": "code",
   "execution_count": null,
   "outputs": [],
   "source": [
    "# attention:需要使用dataset模块中的方法从原始数据中生成数据集，否则需要自己手动更改以下 dataloader 的各个文件和文件夹路径\n",
    "data_paths = mk_dataset_paths(dataset_dir_path)\n",
    "data_loaders_func = mk_data_loaders_single_funcs['BertSNPNet']\n",
    "data_loaders_func_kwargs = {'data_paths': data_paths, 'batch_size': batch_size, 'tokenizer': tokenizer,\n",
    "                            'snp_number': max_len}\n",
    "if dataset_in_memory:\n",
    "    data_loaders_func_kwargs['in_memory'] = dataset_in_memory\n",
    "    data_loaders_func_kwargs['persistent_workers'] = True\n",
    "if label_data_id_field_name:\n",
    "    data_loaders_func_kwargs['label_data_id_field_name'] = label_data_id_field_name\n",
    "if label_data_label_field_name:\n",
    "    data_loaders_func_kwargs['label_data_label_field_name'] = label_data_label_field_name\n",
    "data_loaders = data_loaders_func(**data_loaders_func_kwargs)"
   ],
   "metadata": {
    "collapsed": false
   }
  },
  {
   "cell_type": "code",
   "execution_count": null,
   "outputs": [],
   "source": [
    "loss_early_stopping = LossEarlyStopping(patience=early_stopping_step, delta=early_stopping_delta)\n",
    "# 定义优化器和损失函数\n",
    "# Prepare optimizer and schedule (linear warmup and decay)\n",
    "no_decay = ['bias', 'LayerNorm.weight']\n",
    "optimizer_grouped_parameters = [\n",
    "    {'params': [p for n, p in net.named_parameters() if not any(nd in n for nd in no_decay)],\n",
    "     'weight_decay': weight_decay},\n",
    "    {'params': [p for n, p in net.named_parameters() if any(nd in n for nd in no_decay)], 'weight_decay': 0.0}\n",
    "]\n",
    "# optimizer = optim.AdamW(net.parameters(), lr=learning_rate)\n",
    "optimizer = optim.AdamW(optimizer_grouped_parameters, lr=learning_rate, eps=1e-8)\n",
    "# Total number of training steps is number of batches * number of epochs.\n",
    "total_steps = len(data_loaders['train']) * epochs\n",
    "# Create the learning rate scheduler.\n",
    "scheduler = get_linear_schedule_with_warmup(optimizer,\n",
    "                                            num_warmup_steps=0,  # Default value in run_glue.py\n",
    "                                            num_training_steps=total_steps)\n",
    "criterion = nn.CrossEntropyLoss()"
   ],
   "metadata": {
    "collapsed": false
   }
  },
  {
   "cell_type": "code",
   "execution_count": null,
   "outputs": [],
   "source": [
    "records_dir = r'.\\work_dirs\\bert'\n",
    "train_dir_prefix = datetime_now_str()\n",
    "log_dir = os.path.join(records_dir, train_dir_prefix, 'logs')\n",
    "mk_dir(log_dir)\n",
    "wts_dir = os.path.join(records_dir, train_dir_prefix, 'wts')\n",
    "mk_dir(wts_dir)\n",
    "checkpoints_dir = os.path.join(records_dir, train_dir_prefix, 'checkpoints')\n",
    "mk_dir(checkpoints_dir)\n",
    "writer = SummaryWriter(log_dir=log_dir)\n",
    "best_model_checkpoint_path = os.path.join(checkpoints_dir, 'best_model_checkpoint.pth')\n",
    "best_model_wts_path = os.path.join(checkpoints_dir, 'best_model_checkpoint.pth')"
   ],
   "metadata": {
    "collapsed": false
   }
  },
  {
   "cell_type": "code",
   "execution_count": null,
   "outputs": [],
   "source": [
    "best_model_wts = copy.deepcopy(net.state_dict())\n",
    "best_f1 = 0\n",
    "since = time.time()\n",
    "\n",
    "for epoch in range(epochs):\n",
    "    # 训练一次、验证一次\n",
    "    for phase in ['train', 'valid']:\n",
    "        if phase == 'train':\n",
    "            # 训练\n",
    "            net.train()\n",
    "        else:\n",
    "            # 验证\n",
    "            net.eval()\n",
    "        # 循环所有数据\n",
    "        data_loader_iter = tqdm.tqdm(data_loaders[phase])\n",
    "        y_true, y_pred, y_score = [], [], []\n",
    "        running_loss = 0.0\n",
    "        for inputs, labels in data_loader_iter:\n",
    "            input_ids = inputs[0].to(device)\n",
    "            attention_mask = inputs[1].to(device)\n",
    "            labels = labels.to(device)\n",
    "            y_true += torch.max(labels, dim=-1)[1].int().reshape(-1).tolist()\n",
    "            # 梯度清零\n",
    "            optimizer.zero_grad()\n",
    "            with torch.set_grad_enabled(phase == 'train'):\n",
    "                outputs = net(input_ids,\n",
    "                              token_type_ids=None,\n",
    "                              attention_mask=attention_mask,\n",
    "                              labels=labels)\n",
    "            loss = outputs[0]\n",
    "            if phase == 'train':\n",
    "                loss.backward()\n",
    "                optimizer.step()\n",
    "                scheduler.step()\n",
    "            running_loss += loss.item()\n",
    "            # Clip the norm of the gradients to 1.0.\n",
    "            # This is to help prevent the \"exploding gradients\" problem.\n",
    "            torch.nn.utils.clip_grad_norm_(net.parameters(), 1.0)\n",
    "            logits = outputs[1]\n",
    "            logits = logits.detach().cpu().numpy()\n",
    "            for logit in logits:\n",
    "                if logit[0] > logit[1]:\n",
    "                    y_pred.append(0)\n",
    "                    y_score.append(logit[0])\n",
    "                else:\n",
    "                    y_pred.append(1)\n",
    "                    y_score.append(logit[1])\n",
    "        # 计算损失\n",
    "        epoch_loss = running_loss / len(data_loaders[phase].dataset)\n",
    "        # 计算指标\n",
    "        all_metrics = count_metrics_binary_classification(y_true, y_pred, y_score)\n",
    "        # 记录指标\n",
    "        best_f1, best_model_wts = train_epoch_record(\n",
    "            epoch_loss, all_metrics, net, optimizer, epoch, epochs, phase,\n",
    "            writer, log_interval, best_f1, best_model_wts, best_model_checkpoint_path, since)\n",
    "        # 判断是否早停\n",
    "        if use_early_stopping and phase == 'valid':\n",
    "            loss_early_stopping(epoch_loss)\n",
    "\n",
    "    if epoch % step_size == 0:\n",
    "        writer.add_scalar('lr', optimizer.param_groups[0]['lr'], epoch)\n",
    "    if epoch % save_interval == 0:\n",
    "        torch.save(net.state_dict(), os.path.join(wts_dir, f'epoch_{epoch}_model_wts.pth'))\n",
    "        torch.save({\n",
    "            'epoch': epoch,\n",
    "            'model': net.state_dict(),\n",
    "            'best_f1': best_f1,\n",
    "            'optimizer': optimizer.state_dict()\n",
    "        }, os.path.join(checkpoints_dir, f'epoch_{epoch}_model_checkpoints.pth'))\n",
    "    if use_early_stopping and loss_early_stopping.early_stop:\n",
    "        break\n",
    "finish_train(device, net, data_loaders, writer, best_f1, best_model_wts, best_model_wts_path, since)\n"
   ],
   "metadata": {
    "collapsed": false
   }
  }
 ],
 "metadata": {
  "kernelspec": {
   "display_name": "Python 3",
   "language": "python",
   "name": "python3"
  },
  "language_info": {
   "codemirror_mode": {
    "name": "ipython",
    "version": 2
   },
   "file_extension": ".py",
   "mimetype": "text/x-python",
   "name": "python",
   "nbconvert_exporter": "python",
   "pygments_lexer": "ipython2",
   "version": "2.7.6"
  }
 },
 "nbformat": 4,
 "nbformat_minor": 0
}
